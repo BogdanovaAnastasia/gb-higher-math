{
 "cells": [
  {
   "cell_type": "markdown",
   "metadata": {},
   "source": [
    "## Домашнее задание к уроку \"Урок 5. Видеоурок. Элементы теории вероятностей\""
   ]
  },
  {
   "cell_type": "code",
   "execution_count": 1,
   "metadata": {},
   "outputs": [],
   "source": [
    "import numpy as np\n",
    "import itertools\n",
    "from math import factorial\n",
    "import matplotlib.pyplot as plt\n",
    "%matplotlib inline"
   ]
  },
  {
   "cell_type": "markdown",
   "metadata": {},
   "source": [
    "**1\\. Напишите код, моделирующий выпадение поля в рулетке (с учетом поля зеро).**"
   ]
  },
  {
   "cell_type": "code",
   "execution_count": 2,
   "metadata": {
    "scrolled": true
   },
   "outputs": [],
   "source": [
    "# моделирование выпадения поля в рулетке (с учетом поля зеро)\n",
    "def print_roulette_fields(seed = 42, n = 10):\n",
    "    np.random.seed(seed)\n",
    "    for i in range(0, n):\n",
    "        x = np.random.uniform(0, 370)\n",
    "        if x//10 == 0:\n",
    "            print('зеро')\n",
    "        elif x//10 in [1, 3, 5, 7, 9, 12, 14, 16, 18, 19, 21, 23, 25, 27, 30, 32, 34, 36]:\n",
    "            print('красное')\n",
    "        else:\n",
    "            print('чёрное')"
   ]
  },
  {
   "cell_type": "code",
   "execution_count": 3,
   "metadata": {},
   "outputs": [],
   "source": [
    "# вывод количества исходов по выпавшим полям\n",
    "def print_roulette_iterations(seed = 42, n = 10, iteration_return = False):\n",
    "    z, r, b = 0, 0, 0\n",
    "    np.random.seed(seed)\n",
    "    for i in range(0, n):\n",
    "        x = np.random.uniform(0, 370)\n",
    "        if x//10 == 0:\n",
    "            z += 1\n",
    "        elif x//10 in [1, 3, 5, 7, 9, 12, 14, 16, 18, 19, 21, 23, 25, 27, 30, 32, 34, 36]:\n",
    "            r += 1\n",
    "        else:\n",
    "            b +=1\n",
    "    print(z, r, b)\n",
    "    if iteration_return:\n",
    "        return z, r, b"
   ]
  },
  {
   "cell_type": "code",
   "execution_count": 4,
   "metadata": {},
   "outputs": [
    {
     "name": "stdout",
     "output_type": "stream",
     "text": [
      "чёрное\n",
      "чёрное\n",
      "красное\n",
      "чёрное\n",
      "красное\n",
      "красное\n",
      "чёрное\n",
      "красное\n",
      "чёрное\n",
      "чёрное\n"
     ]
    }
   ],
   "source": [
    "print_roulette_fields()"
   ]
  },
  {
   "cell_type": "code",
   "execution_count": 5,
   "metadata": {},
   "outputs": [
    {
     "name": "stdout",
     "output_type": "stream",
     "text": [
      "0 4 6\n"
     ]
    }
   ],
   "source": [
    "print_roulette_iterations()"
   ]
  },
  {
   "cell_type": "code",
   "execution_count": 6,
   "metadata": {},
   "outputs": [
    {
     "name": "stdout",
     "output_type": "stream",
     "text": [
      "262 4827 4911\n"
     ]
    }
   ],
   "source": [
    "n = 10000\n",
    "z, r, b = print_roulette_iterations(152, n, True)"
   ]
  },
  {
   "cell_type": "code",
   "execution_count": 7,
   "metadata": {},
   "outputs": [
    {
     "data": {
      "text/plain": [
       "0.0262"
      ]
     },
     "execution_count": 7,
     "metadata": {},
     "output_type": "execute_result"
    }
   ],
   "source": [
    "# вероятность из опыта (зеро)\n",
    "z / n"
   ]
  },
  {
   "cell_type": "code",
   "execution_count": 8,
   "metadata": {},
   "outputs": [
    {
     "data": {
      "text/plain": [
       "0.02631578947368421"
      ]
     },
     "execution_count": 8,
     "metadata": {},
     "output_type": "execute_result"
    }
   ],
   "source": [
    "# расчетная вероятность\n",
    "1/38"
   ]
  },
  {
   "cell_type": "code",
   "execution_count": 9,
   "metadata": {},
   "outputs": [
    {
     "data": {
      "text/plain": [
       "0.4827"
      ]
     },
     "execution_count": 9,
     "metadata": {},
     "output_type": "execute_result"
    }
   ],
   "source": [
    "# вероятность из опыта (красное)\n",
    "r / n"
   ]
  },
  {
   "cell_type": "code",
   "execution_count": 10,
   "metadata": {},
   "outputs": [
    {
     "data": {
      "text/plain": [
       "0.47368421052631576"
      ]
     },
     "execution_count": 10,
     "metadata": {},
     "output_type": "execute_result"
    }
   ],
   "source": [
    "# расчетная вероятность\n",
    "18/38"
   ]
  },
  {
   "cell_type": "code",
   "execution_count": 11,
   "metadata": {},
   "outputs": [
    {
     "data": {
      "text/plain": [
       "0.4911"
      ]
     },
     "execution_count": 11,
     "metadata": {},
     "output_type": "execute_result"
    }
   ],
   "source": [
    "# вероятность из опыта (чёрное)\n",
    "b / n"
   ]
  },
  {
   "cell_type": "code",
   "execution_count": 12,
   "metadata": {},
   "outputs": [
    {
     "data": {
      "text/plain": [
       "0.47368421052631576"
      ]
     },
     "execution_count": 12,
     "metadata": {},
     "output_type": "execute_result"
    }
   ],
   "source": [
    "# расчетная вероятность\n",
    "18/38"
   ]
  },
  {
   "cell_type": "markdown",
   "metadata": {},
   "source": [
    "**2\\.1 Напишите код, проверяющий любую из теорем сложения или умножения вероятности на примере рулетки или подбрасывания монетки.**"
   ]
  },
  {
   "cell_type": "code",
   "execution_count": 13,
   "metadata": {},
   "outputs": [],
   "source": [
    "# для несовместных событий\n",
    "# P(A + B + C) = P(A) + P(B) + P(C)"
   ]
  },
  {
   "cell_type": "code",
   "execution_count": 14,
   "metadata": {},
   "outputs": [],
   "source": [
    "def check_probability_sum(a, b, c, n):\n",
    "    p_a = a/n\n",
    "    p_b = b/n\n",
    "    p_c = c/n\n",
    "    p_a_b_c_1 = p_a + p_b + p_c\n",
    "    p_a_b_c_2 = (a + b + c)/n\n",
    "    print(p_a_b_c_1, p_a_b_c_2, p_a_b_c_1 == p_a_b_c_2)"
   ]
  },
  {
   "cell_type": "code",
   "execution_count": 15,
   "metadata": {},
   "outputs": [],
   "source": [
    "n = 100"
   ]
  },
  {
   "cell_type": "code",
   "execution_count": 16,
   "metadata": {},
   "outputs": [
    {
     "name": "stdout",
     "output_type": "stream",
     "text": [
      "2 50 48\n"
     ]
    }
   ],
   "source": [
    "z1, r1, b1 = print_roulette_iterations(152, n, True)"
   ]
  },
  {
   "cell_type": "code",
   "execution_count": 17,
   "metadata": {},
   "outputs": [
    {
     "name": "stdout",
     "output_type": "stream",
     "text": [
      "1.0 1.0 True\n"
     ]
    }
   ],
   "source": [
    "# P(A), A - благоприятный исход зеро, P(B), B - благоприятный исход красное, C - благоприятный исход чёрное\n",
    "# (все события несовместны и формируют полную группу событий - в сумме должны давать 1)\n",
    "check_probability_sum(z1, r1, b1, n)"
   ]
  },
  {
   "cell_type": "markdown",
   "metadata": {},
   "source": [
    "**2\\.2 Сгенерируйте десять выборок случайных чисел х0, …, х9 и постройте гистограмму распределения случайной суммы х0+х1+ …+ х9.**"
   ]
  },
  {
   "cell_type": "code",
   "execution_count": 18,
   "metadata": {},
   "outputs": [
    {
     "name": "stdout",
     "output_type": "stream",
     "text": [
      "i = 0: 51, 92, 14, 71, 60, 20, 82, 86, 74, 74, sum: 624\n",
      "\n",
      "i = 1: 87, 99, 23, 2, 21, 52, 1, 87, 29, 37, sum: 438\n",
      "\n",
      "i = 2: 1, 63, 59, 20, 32, 75, 57, 21, 88, 48, sum: 464\n",
      "\n",
      "i = 3: 90, 58, 41, 91, 59, 79, 14, 61, 61, 46, sum: 600\n",
      "\n",
      "i = 4: 61, 50, 54, 63, 2, 50, 6, 20, 72, 38, sum: 416\n",
      "\n",
      "i = 5: 17, 3, 88, 59, 13, 8, 89, 52, 1, 83, sum: 413\n",
      "\n",
      "i = 6: 91, 59, 70, 43, 7, 46, 34, 77, 80, 35, sum: 542\n",
      "\n",
      "i = 7: 49, 3, 1, 5, 53, 3, 53, 92, 62, 17, sum: 338\n",
      "\n",
      "i = 8: 89, 43, 33, 73, 61, 99, 13, 94, 47, 14, sum: 566\n",
      "\n",
      "i = 9: 71, 77, 86, 61, 39, 84, 79, 81, 52, 23, sum: 653\n",
      "\n"
     ]
    },
    {
     "data": {
      "image/png": "[encoded data removed]",
      "text/plain": [
       "<Figure size 432x288 with 1 Axes>"
      ]
     },
     "metadata": {
      "needs_background": "light"
     },
     "output_type": "display_data"
    }
   ],
   "source": [
    "np.random.seed(42)\n",
    "sum_for_hist = []\n",
    "n = 100\n",
    "for i in range(0, 10):\n",
    "    print(f'i = {i}: ', end='')\n",
    "    x_sum = 0\n",
    "    for j in range(0, 10):\n",
    "        x_i = np.random.randint(0, n)\n",
    "        print(f'{x_i}', end=', ')\n",
    "        x_sum += x_i\n",
    "    print(f'sum: {x_sum}')\n",
    "    sum_for_hist.append(x_sum)\n",
    "    print()\n",
    "\n",
    "num_bins = 5\n",
    "n, bins, patches = plt.hist(sum_for_hist, num_bins)\n",
    "plt.xlabel('x')\n",
    "plt.ylabel('Probability')\n",
    "plt.title('Histogram')\n",
    "plt.show()"
   ]
  },
  {
   "cell_type": "markdown",
   "metadata": {},
   "source": [
    "**3\\.1 Дополните код Монте-Карло последовательности независимых испытаний расчетом соответствующих вероятностей (через биномиальное распределение) \n",
    "и сравните результаты.**"
   ]
  },
  {
   "cell_type": "code",
   "execution_count": 19,
   "metadata": {},
   "outputs": [],
   "source": [
    "# Формула Бернулли\n",
    "# Pn(k) = C(n, k) * p**k * q**(n − k), q = 1 - p\n",
    "# p - вероятность наступления события\n",
    "# n - общее количество испытаний\n",
    "# k - количество испытаний с наступившим событием\n",
    "# Для p = 1/2: Pn(k) = C(k, n) * 1/2**n\n",
    "def bernoulli_for_coin(k, n):\n",
    "    return (factorial(n) // (factorial(k) * factorial(n - k))) * 1/2**n"
   ]
  },
  {
   "cell_type": "code",
   "execution_count": 20,
   "metadata": {},
   "outputs": [
    {
     "name": "stdout",
     "output_type": "stream",
     "text": [
      "3714 10000 0.3714\n",
      "4.392251494256108e-148\n"
     ]
    }
   ],
   "source": [
    "np.random.seed(42)\n",
    "k, n = 0, 10000\n",
    "a = np.random.randint(0, 2, n)\n",
    "b = np.random.randint(0, 2, n)\n",
    "c = np.random.randint(0, 2, n)\n",
    "d = np.random.randint(0, 2, n)\n",
    "x = a + b + c + d\n",
    "for i in range(0, n):\n",
    "    if x[i] == 2:\n",
    "        k = k + 1\n",
    "# print(a, b, c, d, sep=\"\\n\")\n",
    "# print(x)\n",
    "print(k, n, k/n)\n",
    "print(bernoulli_for_coin(k, n))"
   ]
  },
  {
   "cell_type": "code",
   "execution_count": 21,
   "metadata": {},
   "outputs": [],
   "source": [
    "# получаем вероятность появления события выпадения двух орлов и двух решек k раз при n независимых испытаниях - \n",
    "# вероятность того, что при каждом следующем испытании будет выполняться условие (происходить событие)"
   ]
  },
  {
   "cell_type": "markdown",
   "metadata": {},
   "source": [
    "**3\\.2 Повторите расчеты биномиальных коэффициентов и вероятностей k успехов в последовательности из n независимых испытаний, взяв другие значения n и k.**"
   ]
  },
  {
   "cell_type": "code",
   "execution_count": 22,
   "metadata": {},
   "outputs": [
    {
     "name": "stdout",
     "output_type": "stream",
     "text": [
      "Количество успехов: 2, Общее количество испытаний: 10, Оценка вероятности: 0.2\n",
      "Вероятность 2 успехов в последовательности из 10 независимых испытаний: 0.0439453125\n"
     ]
    }
   ],
   "source": [
    "# Выпадет 1 орёл и 3 решки\n",
    "np.random.seed(42)\n",
    "k, n = 0, 10\n",
    "a = np.random.randint(0, 2, n)\n",
    "b = np.random.randint(0, 2, n)\n",
    "c = np.random.randint(0, 2, n)\n",
    "d = np.random.randint(0, 2, n)\n",
    "x = a + b + c + d\n",
    "for i in range(0, n):\n",
    "    if x[i] == 1:\n",
    "        k = k + 1\n",
    "# print(a, b, c, d, sep=\"\\n\")\n",
    "# print(x)\n",
    "print(f'Количество успехов: {k}, Общее количество испытаний: {n}, Оценка вероятности: {k/n}')\n",
    "print(f'Вероятность {k} успехов в последовательности из {n} независимых испытаний: {bernoulli_for_coin(k, n)}')"
   ]
  },
  {
   "cell_type": "markdown",
   "metadata": {},
   "source": [
    "**4\\. Из урока по комбинаторике повторите расчеты, сгенерировав возможные варианты перестановок для других значений n и k.**"
   ]
  },
  {
   "cell_type": "code",
   "execution_count": 23,
   "metadata": {},
   "outputs": [
    {
     "name": "stdout",
     "output_type": "stream",
     "text": [
      "523\n",
      "532\n",
      "253\n",
      "235\n",
      "352\n",
      "325\n"
     ]
    }
   ],
   "source": [
    "# Перестановка\n",
    "for p in itertools.permutations(\"523\", 3):\n",
    "    print(''.join(str(x) for x in p))"
   ]
  },
  {
   "cell_type": "code",
   "execution_count": 24,
   "metadata": {},
   "outputs": [
    {
     "name": "stdout",
     "output_type": "stream",
     "text": [
      "012345678\n",
      "012345679\n",
      "012345689\n",
      "012345789\n",
      "012346789\n",
      "012356789\n",
      "012456789\n",
      "013456789\n",
      "023456789\n",
      "123456789\n"
     ]
    }
   ],
   "source": [
    "# Сочетание\n",
    "for p in itertools.combinations(\"0123456789\", 9):\n",
    "    print(''.join(p))"
   ]
  },
  {
   "cell_type": "code",
   "execution_count": 25,
   "metadata": {},
   "outputs": [
    {
     "name": "stdout",
     "output_type": "stream",
     "text": [
      "44\n",
      "48\n",
      "41\n",
      "84\n",
      "88\n",
      "81\n",
      "14\n",
      "18\n",
      "11\n"
     ]
    }
   ],
   "source": [
    "# Размещение\n",
    "for p in itertools.product(\"481\",repeat=2):\n",
    "    print(''.join(p))"
   ]
  },
  {
   "cell_type": "markdown",
   "metadata": {},
   "source": [
    "**5\\. Дополните код расчетом коэффициента корреляции x и y по формуле**  \n",
    "${\\Large\n",
    "\\begin{equation}R = \\frac{\\sum (x_i\\ -\\ x_m)\\cdot(y_i\\ -\\ y_m)}{\\sqrt{\\sum {(x_i\\ -\\ x_m)}^2 \\cdot \\sum {(y_i\\ -\\ y_m)}^2}}\\end{equation} }$"
   ]
  },
  {
   "cell_type": "code",
   "execution_count": 26,
   "metadata": {},
   "outputs": [
    {
     "name": "stdout",
     "output_type": "stream",
     "text": [
      "Величины по формулам: \n",
      "\n",
      "a = 0.6899405068361129, b = 0.15407929692031133, R = 0.919277701560806\n",
      "\n",
      "Величины, рассчитанные с помощью модуля numpy: \n",
      "\n",
      "a = 0.6899405068361143, b = 0.15407929692031072, R = 0.9192777015608059\n"
     ]
    },
    {
     "data": {
      "image/png": "[encoded data removed]",
      "text/plain": [
       "<Figure size 432x288 with 1 Axes>"
      ]
     },
     "metadata": {
      "needs_background": "light"
     },
     "output_type": "display_data"
    }
   ],
   "source": [
    "n = 100\n",
    "r = 0.7\n",
    "np.random.seed(42)\n",
    "x = np.random.rand(n)\n",
    "y = r*x + (1 - r)*np.random.rand(n)\n",
    "x_mean = np.mean(x)\n",
    "y_mean = np.mean(y)\n",
    "plt.plot(x, y, 'o')\n",
    "plt.xlabel('x')\n",
    "plt.ylabel('y')\n",
    "plt.grid(True)\n",
    "\n",
    "a = (np.sum(x)*np.sum(y) - n*np.sum(x*y))/(np.sum(x)*np.sum(x) - n*np.sum(x*x))\n",
    "b = (np.sum(y) - a*np.sum(x))/n\n",
    "R = np.sum((x - x_mean)*(y - y_mean))/np.sqrt(np.sum((x - x_mean)**2) * np.sum((y - y_mean)**2))\n",
    "\n",
    "A = np.vstack([x, np.ones(len(x))]).T\n",
    "a1, b1 = np.linalg.lstsq(A, y, rcond = None)[0]\n",
    "R1 = np.corrcoef(x, y)\n",
    "print(f'Величины по формулам: \\n\\na = {a}, b = {b}, R = {R}\\n')\n",
    "print(f'Величины, рассчитанные с помощью модуля numpy: \\n\\na = {a1}, b = {b1}, R = {R1[0][1]}')\n",
    "plt.plot([0, 1], [b, a + b])\n",
    "plt.show()"
   ]
  }
 ],
 "metadata": {
  "kernelspec": {
   "display_name": "Python 3",
   "language": "python",
   "name": "python3"
  },
  "language_info": {
   "codemirror_mode": {
    "name": "ipython",
    "version": 3
   },
   "file_extension": ".py",
   "mimetype": "text/x-python",
   "name": "python",
   "nbconvert_exporter": "python",
   "pygments_lexer": "ipython3",
   "version": "3.7.4"
  }
 },
 "nbformat": 4,
 "nbformat_minor": 2
}
