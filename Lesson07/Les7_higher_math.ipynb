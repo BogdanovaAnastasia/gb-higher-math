{
 "cells": [
  {
   "cell_type": "markdown",
   "metadata": {},
   "source": [
    "## Домашнее задание к уроку \"Урок 7. Видеоурок Введение в линейную алгебру\""
   ]
  },
  {
   "cell_type": "code",
   "execution_count": 1,
   "metadata": {},
   "outputs": [],
   "source": [
    "import numpy as np\n",
    "import scipy\n",
    "import scipy.linalg\n",
    "import matplotlib.pyplot as plt\n",
    "%matplotlib inline"
   ]
  },
  {
   "cell_type": "markdown",
   "metadata": {},
   "source": [
    "### Практическое задание по теме \"Введение в линейную алгебру\""
   ]
  },
  {
   "cell_type": "markdown",
   "metadata": {},
   "source": [
    "**1\\. Вектор – это частный случай матрицы 1хN и Nх1. Повторите материал для векторов, уделяя особое внимание умножению A∙B.\n",
    "Вычислите, по возможности не используя программирование: $(5E)^{-1}$, где Е – единичная матрица размера 5х5.**"
   ]
  },
  {
   "cell_type": "markdown",
   "metadata": {},
   "source": [
    "Единичная матрица размером 5х5:  \n",
    "\n",
    "$E = \\begin{pmatrix}\n",
    "1 & 0 & 0 & 0 & 0\\\\ \n",
    "0 & 1 & 0 & 0 & 0\\\\ \n",
    "0 & 0 & 1 & 0 & 0\\\\ \n",
    "0 & 0 & 0 & 1 & 0\\\\ \n",
    "0 & 0 & 0 & 0 & 1\\\\\n",
    "\\end{pmatrix}$  \n",
    "\n",
    "Матрица 5E:  \n",
    "\n",
    "$A = 5 \\cdot E = 5 \\cdot \\begin{pmatrix}\n",
    "1 & 0 & 0 & 0 & 0\\\\ \n",
    "0 & 1 & 0 & 0 & 0\\\\ \n",
    "0 & 0 & 1 & 0 & 0\\\\ \n",
    "0 & 0 & 0 & 1 & 0\\\\ \n",
    "0 & 0 & 0 & 0 & 1\\\\\n",
    "\\end{pmatrix} = \\begin{pmatrix}\n",
    "5 & 0 & 0 & 0 & 0\\\\ \n",
    "0 & 5 & 0 & 0 & 0\\\\ \n",
    "0 & 0 & 5 & 0 & 0\\\\ \n",
    "0 & 0 & 0 & 5 & 0\\\\ \n",
    "0 & 0 & 0 & 0 & 5\\\\\n",
    "\\end{pmatrix}$  \n",
    "\n",
    "Чтобы вычислить обратную матрицу, необходимо, чтобы соблюдалось уравнение:  \n",
    "\n",
    "$A \\cdot A^{-1} = E$  \n",
    "\n",
    "То есть:  \n",
    "\n",
    "$5 \\cdot E \\cdot {(5 \\cdot E)}^{-1} = E$  \n",
    "\n",
    "$\\begin{pmatrix}\n",
    "5 & 0 & 0 & 0 & 0\\\\ \n",
    "0 & 5 & 0 & 0 & 0\\\\ \n",
    "0 & 0 & 5 & 0 & 0\\\\ \n",
    "0 & 0 & 0 & 5 & 0\\\\ \n",
    "0 & 0 & 0 & 0 & 5\\\\\n",
    "\\end{pmatrix} \\cdot A^{-1} = \\begin{pmatrix}\n",
    "1 & 0 & 0 & 0 & 0\\\\ \n",
    "0 & 1 & 0 & 0 & 0\\\\ \n",
    "0 & 0 & 1 & 0 & 0\\\\ \n",
    "0 & 0 & 0 & 1 & 0\\\\ \n",
    "0 & 0 & 0 & 0 & 1\\\\\n",
    "\\end{pmatrix}$  \n",
    "\n",
    "Чтобы получить из главной диагонали 5 главную диагональ 1 - нужно умножить матрицу A на матрицу с диагональю 1/5:  \n",
    "\n",
    "$\\begin{pmatrix}\n",
    "5 & 0 & 0 & 0 & 0\\\\ \n",
    "0 & 5 & 0 & 0 & 0\\\\ \n",
    "0 & 0 & 5 & 0 & 0\\\\ \n",
    "0 & 0 & 0 & 5 & 0\\\\ \n",
    "0 & 0 & 0 & 0 & 5\\\\\n",
    "\\end{pmatrix} \\cdot \\begin{pmatrix}\n",
    "1/5 & 0 & 0 & 0 & 0\\\\ \n",
    "0 & 1/5 & 0 & 0 & 0\\\\ \n",
    "0 & 0 & 1/5 & 0 & 0\\\\ \n",
    "0 & 0 & 0 & 1/5 & 0\\\\ \n",
    "0 & 0 & 0 & 0 & 1/5\\\\\n",
    "\\end{pmatrix} = \\begin{pmatrix}\n",
    "5 \\cdot 1/5 & 0 & 0 & 0 & 0\\\\ \n",
    "0 & 5 \\cdot 1/5 & 0 & 0 & 0\\\\ \n",
    "0 & 0 & 5 \\cdot 1/5 & 0 & 0\\\\ \n",
    "0 & 0 & 0 & 5 \\cdot 1/5 & 0\\\\ \n",
    "0 & 0 & 0 & 0 & 5 \\cdot 1/5\\\\\n",
    "\\end{pmatrix} = \\begin{pmatrix}\n",
    "1 & 0 & 0 & 0 & 0\\\\ \n",
    "0 & 1 & 0 & 0 & 0\\\\ \n",
    "0 & 0 & 1 & 0 & 0\\\\ \n",
    "0 & 0 & 0 & 1 & 0\\\\ \n",
    "0 & 0 & 0 & 0 & 1\\\\\n",
    "\\end{pmatrix}$  \n"
   ]
  },
  {
   "cell_type": "code",
   "execution_count": 2,
   "metadata": {},
   "outputs": [
    {
     "data": {
      "text/plain": [
       "array([[1., 0., 0., 0., 0.],\n",
       "       [0., 1., 0., 0., 0.],\n",
       "       [0., 0., 1., 0., 0.],\n",
       "       [0., 0., 0., 1., 0.],\n",
       "       [0., 0., 0., 0., 1.]])"
      ]
     },
     "execution_count": 2,
     "metadata": {},
     "output_type": "execute_result"
    }
   ],
   "source": [
    "# проверка с помощью модуля numpy\n",
    "E = np.identity(5)\n",
    "E"
   ]
  },
  {
   "cell_type": "code",
   "execution_count": 3,
   "metadata": {},
   "outputs": [
    {
     "data": {
      "text/plain": [
       "array([[5., 0., 0., 0., 0.],\n",
       "       [0., 5., 0., 0., 0.],\n",
       "       [0., 0., 5., 0., 0.],\n",
       "       [0., 0., 0., 5., 0.],\n",
       "       [0., 0., 0., 0., 5.]])"
      ]
     },
     "execution_count": 3,
     "metadata": {},
     "output_type": "execute_result"
    }
   ],
   "source": [
    "A = 5*E\n",
    "A"
   ]
  },
  {
   "cell_type": "code",
   "execution_count": 4,
   "metadata": {},
   "outputs": [
    {
     "data": {
      "text/plain": [
       "array([[0.2, 0. , 0. , 0. , 0. ],\n",
       "       [0. , 0.2, 0. , 0. , 0. ],\n",
       "       [0. , 0. , 0.2, 0. , 0. ],\n",
       "       [0. , 0. , 0. , 0.2, 0. ],\n",
       "       [0. , 0. , 0. , 0. , 0.2]])"
      ]
     },
     "execution_count": 4,
     "metadata": {},
     "output_type": "execute_result"
    }
   ],
   "source": [
    "np.linalg.inv(A)"
   ]
  },
  {
   "cell_type": "code",
   "execution_count": 5,
   "metadata": {},
   "outputs": [],
   "source": [
    "# 1/5 = 2/10 = 0.2"
   ]
  },
  {
   "cell_type": "markdown",
   "metadata": {},
   "source": [
    "**2\\. Вычислите определитель:**  \n",
    "$\\begin{vmatrix}\n",
    "1 & 2 & 3\\\\ \n",
    "4 & 0 & 6\\\\\n",
    "7 & 8 & 9\n",
    "\\end{vmatrix}$"
   ]
  },
  {
   "cell_type": "markdown",
   "metadata": {},
   "source": [
    "Разложение определителя по второй строке:  \n",
    "\n",
    "$\\begin{vmatrix}\n",
    "1 & 2 & 3\\\\ \n",
    "4 & 0 & 6\\\\\n",
    "7 & 8 & 9\n",
    "\\end{vmatrix} = -4 \\cdot \\begin{vmatrix}\n",
    "2 & 3\\\\ \n",
    "8 & 9\n",
    "\\end{vmatrix} + 0 \\cdot \\begin{vmatrix}\n",
    "1 & 3\\\\ \n",
    "7 & 9\n",
    "\\end{vmatrix} - 6 \\cdot \\begin{vmatrix}\n",
    "1 & 2\\\\ \n",
    "7 & 8\n",
    "\\end{vmatrix} = -4 \\cdot (2 \\cdot 9 - 3 \\cdot 8) - 6 \\cdot (1 \\cdot 8 - 2 \\cdot 7) = -4 \\cdot (18 - 24) - 6 \\cdot (8 - 14) = 24 + 36 = 60$"
   ]
  },
  {
   "cell_type": "code",
   "execution_count": 6,
   "metadata": {},
   "outputs": [
    {
     "data": {
      "text/plain": [
       "array([[1, 2, 3],\n",
       "       [4, 0, 6],\n",
       "       [7, 8, 9]])"
      ]
     },
     "execution_count": 6,
     "metadata": {},
     "output_type": "execute_result"
    }
   ],
   "source": [
    "# проверка с помощью модуля numpy\n",
    "A = np.array([[1, 2, 3], [4, 0, 6], [7, 8, 9]])\n",
    "A"
   ]
  },
  {
   "cell_type": "code",
   "execution_count": 7,
   "metadata": {},
   "outputs": [
    {
     "data": {
      "text/plain": [
       "60.0"
      ]
     },
     "execution_count": 7,
     "metadata": {},
     "output_type": "execute_result"
    }
   ],
   "source": [
    "np.round(np.linalg.det(A), 2)"
   ]
  },
  {
   "cell_type": "markdown",
   "metadata": {},
   "source": [
    "**3\\.1 Вычислите матрицу, обратную данной:**  \n",
    "$\\begin{vmatrix}\n",
    "1 & 2 & 3\\\\ \n",
    "4 & 0 & 6\\\\\n",
    "7 & 8 & 9\n",
    "\\end{vmatrix}$"
   ]
  },
  {
   "cell_type": "markdown",
   "metadata": {},
   "source": [
    "<img src=\"3.1.jpg\" />"
   ]
  },
  {
   "cell_type": "code",
   "execution_count": 8,
   "metadata": {},
   "outputs": [
    {
     "data": {
      "text/plain": [
       "array([[-0.8       ,  0.1       ,  0.2       ],\n",
       "       [ 0.1       , -0.2       ,  0.1       ],\n",
       "       [ 0.53333333,  0.1       , -0.13333333]])"
      ]
     },
     "execution_count": 8,
     "metadata": {},
     "output_type": "execute_result"
    }
   ],
   "source": [
    "# проверка с помощью модуля numpy\n",
    "np.linalg.inv(A)"
   ]
  },
  {
   "cell_type": "markdown",
   "metadata": {},
   "source": [
    "**3\\.2 Приведите пример матрицы 4х4, ранг которой равен 1.**"
   ]
  },
  {
   "cell_type": "code",
   "execution_count": 9,
   "metadata": {
    "scrolled": true
   },
   "outputs": [
    {
     "data": {
      "text/plain": [
       "array([[ 1,  2,  3,  4],\n",
       "       [ 8, 16, 24, 32],\n",
       "       [ 2,  4,  6,  8],\n",
       "       [ 4,  8, 12, 16]])"
      ]
     },
     "execution_count": 9,
     "metadata": {},
     "output_type": "execute_result"
    }
   ],
   "source": [
    "A = np.array([[1, 2, 3, 4], [8, 16, 24, 32], [2, 4, 6, 8], [4, 8, 12, 16]])\n",
    "A"
   ]
  },
  {
   "cell_type": "code",
   "execution_count": 10,
   "metadata": {},
   "outputs": [
    {
     "data": {
      "text/plain": [
       "(4, 4)"
      ]
     },
     "execution_count": 10,
     "metadata": {},
     "output_type": "execute_result"
    }
   ],
   "source": [
    "A.shape"
   ]
  },
  {
   "cell_type": "code",
   "execution_count": 11,
   "metadata": {
    "scrolled": true
   },
   "outputs": [
    {
     "data": {
      "text/plain": [
       "1"
      ]
     },
     "execution_count": 11,
     "metadata": {},
     "output_type": "execute_result"
    }
   ],
   "source": [
    "np.linalg.matrix_rank(A)"
   ]
  },
  {
   "cell_type": "markdown",
   "metadata": {},
   "source": [
    "**4\\. Вычислите скалярное произведение двух векторов:  \n",
    "(1, 5)  и  (2, 8)**"
   ]
  },
  {
   "cell_type": "markdown",
   "metadata": {},
   "source": [
    "$(1, 5) \\cdot (2, 8) = 1 \\cdot 2 + 5 \\cdot  8 = 2 + 40 = 42$"
   ]
  },
  {
   "cell_type": "code",
   "execution_count": 12,
   "metadata": {},
   "outputs": [
    {
     "data": {
      "text/plain": [
       "(array([1, 5]), array([2, 8]))"
      ]
     },
     "execution_count": 12,
     "metadata": {},
     "output_type": "execute_result"
    }
   ],
   "source": [
    "# проверка с помощью модуля numpy\n",
    "a = np.array([1, 5])\n",
    "b = np.array([2, 8])\n",
    "a, b"
   ]
  },
  {
   "cell_type": "code",
   "execution_count": 13,
   "metadata": {},
   "outputs": [
    {
     "data": {
      "text/plain": [
       "42"
      ]
     },
     "execution_count": 13,
     "metadata": {},
     "output_type": "execute_result"
    }
   ],
   "source": [
    "np.inner(a, b)"
   ]
  },
  {
   "cell_type": "markdown",
   "metadata": {},
   "source": [
    "**5\\. Вычислите смешанное произведение трех векторов:  \n",
    "(1, 5, 0), (2, 8, 7) и (7, 1.5, 3)**"
   ]
  },
  {
   "cell_type": "markdown",
   "metadata": {},
   "source": [
    "$a = (1, 5, 0)$  \n",
    "$b = (2, 8, 7)$  \n",
    "$c = (7, 1.5, 3)$  \n",
    "\n",
    "Необходимо вычислить:  \n",
    "\n",
    "$a \\cdot b \\cdot c = [a \\times b ] \\cdot c$  \n",
    "\n",
    "Сначала вычислим векторное произведение:  \n",
    "\n",
    "$a \\times b = \\begin{vmatrix}\n",
    "i & j & k\\\\ \n",
    "a_x & a_y & a_z\\\\\n",
    "b_x & b_y & b_z\n",
    "\\end{vmatrix} = \\begin{vmatrix}\n",
    "i & j & k\\\\ \n",
    "1 & 5 & 0\\\\\n",
    "2 & 8 & 7\n",
    "\\end{vmatrix} = i \\cdot \\begin{vmatrix}\n",
    "5 & 0\\\\\n",
    "8 & 7\n",
    "\\end{vmatrix} - j \\cdot \\begin{vmatrix}\n",
    "1 & 0\\\\\n",
    "2 & 7\n",
    "\\end{vmatrix} + k \\cdot \\begin{vmatrix}\n",
    "1 & 5\\\\\n",
    "2 & 8\n",
    "\\end{vmatrix} = i \\cdot (5 \\cdot 7 - 0 \\cdot 8) - j \\cdot (1 \\cdot 7 - 0 \\cdot 2) + k \\cdot (1 \\cdot 8 - 5 \\cdot 2) = i \\cdot 35 + j \\cdot (-7) + k \\cdot (-2)$  \n",
    "\n",
    "$ a \\times b = (35, -7, -2)$  \n",
    "\n",
    "Вычислим скалярное произведение:  \n",
    "\n",
    "$[a \\times b ] \\cdot c = (35, -7, -2) \\cdot (7, 1.5, 3) = 35 \\cdot 7 + (-7) \\cdot 1.5 + 2 \\cdot 3 =  245 - 10.5 - 6 = 228.5$"
   ]
  },
  {
   "cell_type": "code",
   "execution_count": 14,
   "metadata": {},
   "outputs": [
    {
     "data": {
      "text/plain": [
       "(array([1, 5, 0]), array([2, 8, 7]), array([7. , 1.5, 3. ]))"
      ]
     },
     "execution_count": 14,
     "metadata": {},
     "output_type": "execute_result"
    }
   ],
   "source": [
    "a = np.array([1, 5, 0])\n",
    "b = np.array([2, 8, 7])\n",
    "c = np.array([7, 1.5, 3])\n",
    "a, b, c"
   ]
  },
  {
   "cell_type": "code",
   "execution_count": 15,
   "metadata": {},
   "outputs": [
    {
     "data": {
      "text/plain": [
       "array([35, -7, -2])"
      ]
     },
     "execution_count": 15,
     "metadata": {},
     "output_type": "execute_result"
    }
   ],
   "source": [
    "np.cross(a, b)"
   ]
  },
  {
   "cell_type": "code",
   "execution_count": 16,
   "metadata": {
    "scrolled": true
   },
   "outputs": [
    {
     "data": {
      "text/plain": [
       "228.5"
      ]
     },
     "execution_count": 16,
     "metadata": {},
     "output_type": "execute_result"
    }
   ],
   "source": [
    "np.inner(np.cross(a, b), c)"
   ]
  },
  {
   "cell_type": "markdown",
   "metadata": {},
   "source": [
    "### Практическое задание по теме \"Системы линейных алгебраических уравнений\""
   ]
  },
  {
   "cell_type": "markdown",
   "metadata": {},
   "source": [
    "**1\\. Решите линейную систему:**  \n",
    "$\\begin{pmatrix}\n",
    "1 & 2 & 3\\\\ \n",
    "4 & 0 & 6\\\\ \n",
    "7 & 8 & 9\\\\ \n",
    "\\end{pmatrix} \\cdot X = \\begin{pmatrix}\n",
    "12\\\\ \n",
    "2\\\\ \n",
    "1\\\\ \n",
    "\\end{pmatrix}$"
   ]
  },
  {
   "cell_type": "code",
   "execution_count": 17,
   "metadata": {},
   "outputs": [
    {
     "data": {
      "text/plain": [
       "array([[1, 2, 3],\n",
       "       [4, 0, 6],\n",
       "       [7, 8, 9]])"
      ]
     },
     "execution_count": 17,
     "metadata": {},
     "output_type": "execute_result"
    }
   ],
   "source": [
    "A = np.array([[1, 2, 3], [4, 0, 6], [7, 8, 9]])\n",
    "A"
   ]
  },
  {
   "cell_type": "code",
   "execution_count": 18,
   "metadata": {},
   "outputs": [
    {
     "data": {
      "text/plain": [
       "array([12,  2,  1])"
      ]
     },
     "execution_count": 18,
     "metadata": {},
     "output_type": "execute_result"
    }
   ],
   "source": [
    "B = np.array([12, 2, 1])\n",
    "B"
   ]
  },
  {
   "cell_type": "code",
   "execution_count": 19,
   "metadata": {},
   "outputs": [
    {
     "data": {
      "text/plain": [
       "array([-9.2       ,  0.9       ,  6.46666667])"
      ]
     },
     "execution_count": 19,
     "metadata": {},
     "output_type": "execute_result"
    }
   ],
   "source": [
    "X = np.linalg.solve(A, B)\n",
    "X"
   ]
  },
  {
   "cell_type": "code",
   "execution_count": 20,
   "metadata": {},
   "outputs": [
    {
     "data": {
      "text/plain": [
       "array([12.,  2.,  1.])"
      ]
     },
     "execution_count": 20,
     "metadata": {},
     "output_type": "execute_result"
    }
   ],
   "source": [
    "A.dot(X)"
   ]
  },
  {
   "cell_type": "markdown",
   "metadata": {},
   "source": [
    "**2\\. Найдите псевдорешение:**  \n",
    "$\\begin{cases}\n",
    "x + 2\\cdot y - z = 1\\\\ \n",
    "3\\cdot x - 4 \\cdot y = 7\\\\ \n",
    "8 \\cdot x - 5 \\cdot y + 2 \\cdot z = 12\\\\ \n",
    "2\\cdot x - 5 \\cdot z = 7\\\\\n",
    "11 \\cdot x + 4 \\cdot y - 7 \\cdot z = 15\n",
    "\\end{cases}$  "
   ]
  },
  {
   "cell_type": "markdown",
   "metadata": {},
   "source": [
    "Систему можно привести к виду, где x, y, z -> $x_1$, $x_2$, $x_3$, то есть сформировать вектор X, дополнить при отсутствующих значениях коэффициенты нулями:  \n",
    "$\\begin{cases}\n",
    "x_1 + 2\\cdot x_2 - x_3 = 1\\\\ \n",
    "3\\cdot x_1 - 4 \\cdot x_2 + 0\\cdot x_3 = 7\\\\ \n",
    "8 \\cdot x_1 - 5 \\cdot x_2 + 2 \\cdot x_3 = 12\\\\ \n",
    "2\\cdot x_1 + 0 \\cdot x_2 - 5 \\cdot x_3 = 7\\\\\n",
    "11 \\cdot x_1 + 4 \\cdot x_2 - 7 \\cdot x_3 = 15\n",
    "\\end{cases}$ "
   ]
  },
  {
   "cell_type": "code",
   "execution_count": 21,
   "metadata": {},
   "outputs": [
    {
     "data": {
      "text/plain": [
       "array([[ 1,  2, -1],\n",
       "       [ 3, -4,  0],\n",
       "       [ 8, -5,  2],\n",
       "       [ 2,  0, -5],\n",
       "       [11,  4, -7]])"
      ]
     },
     "execution_count": 21,
     "metadata": {},
     "output_type": "execute_result"
    }
   ],
   "source": [
    "A = np.array([[1, 2, -1], [3, -4, 0], [8, -5, 2], [2, 0, -5], [11, 4, -7]])\n",
    "A"
   ]
  },
  {
   "cell_type": "code",
   "execution_count": 22,
   "metadata": {},
   "outputs": [
    {
     "data": {
      "text/plain": [
       "array([ 1,  7, 12,  7, 15])"
      ]
     },
     "execution_count": 22,
     "metadata": {},
     "output_type": "execute_result"
    }
   ],
   "source": [
    "B = np.array([1, 7, 12, 7, 15])\n",
    "B"
   ]
  },
  {
   "cell_type": "code",
   "execution_count": 23,
   "metadata": {},
   "outputs": [
    {
     "data": {
      "text/plain": [
       "array([ 1.13919353, -0.90498444, -0.9009803 ])"
      ]
     },
     "execution_count": 23,
     "metadata": {},
     "output_type": "execute_result"
    }
   ],
   "source": [
    "X = np.linalg.lstsq(A, B, rcond=None)\n",
    "X[0]"
   ]
  },
  {
   "cell_type": "markdown",
   "metadata": {},
   "source": [
    "**3\\. Сколько решений имеет линейная система:**  \n",
    "$\\begin{pmatrix}\n",
    "1 & 2 & 3\\\\ \n",
    "4 & 5 & 6\\\\ \n",
    "7 & 8 & 9\\\\ \n",
    "\\end{pmatrix} \\cdot X = \\begin{pmatrix}\n",
    "12\\\\ \n",
    "2\\\\ \n",
    "1\\\\ \n",
    "\\end{pmatrix}$  \n",
    "**Если ноль – то измените вектор правой части так, чтобы система стала совместной, и решите ее.**"
   ]
  },
  {
   "cell_type": "code",
   "execution_count": 24,
   "metadata": {},
   "outputs": [
    {
     "data": {
      "text/plain": [
       "array([[1, 2, 3],\n",
       "       [4, 5, 6],\n",
       "       [7, 8, 9]])"
      ]
     },
     "execution_count": 24,
     "metadata": {},
     "output_type": "execute_result"
    }
   ],
   "source": [
    "A = np.array([[1, 2, 3], [4, 5, 6], [7, 8, 9]])\n",
    "A"
   ]
  },
  {
   "cell_type": "code",
   "execution_count": 25,
   "metadata": {},
   "outputs": [
    {
     "data": {
      "text/plain": [
       "array([[12,  2,  1]])"
      ]
     },
     "execution_count": 25,
     "metadata": {},
     "output_type": "execute_result"
    }
   ],
   "source": [
    "B = np.array([[12, 2, 1]])\n",
    "B"
   ]
  },
  {
   "cell_type": "code",
   "execution_count": 26,
   "metadata": {
    "scrolled": true
   },
   "outputs": [
    {
     "name": "stdout",
     "output_type": "stream",
     "text": [
      "[[ 1  2  3 12]\n",
      " [ 4  5  6  2]\n",
      " [ 7  8  9  1]]\n"
     ]
    },
    {
     "data": {
      "text/plain": [
       "(2, 3)"
      ]
     },
     "execution_count": 26,
     "metadata": {},
     "output_type": "execute_result"
    }
   ],
   "source": [
    "C = np.concatenate((A, B.T), axis=1)\n",
    "print(C)\n",
    "np.linalg.matrix_rank(A), np.linalg.matrix_rank(C)"
   ]
  },
  {
   "cell_type": "code",
   "execution_count": 27,
   "metadata": {},
   "outputs": [],
   "source": [
    "# ранг матрицы A меньше ранга расширенной матрицы C, следовательно, система несовместна, то есть не имеет решений"
   ]
  },
  {
   "cell_type": "code",
   "execution_count": 28,
   "metadata": {},
   "outputs": [],
   "source": [
    "# чтобы система была совместной, необходимо изменить правую часть так, чтобы ранг расширенной матрицы тоже был равен 2\n",
    "# матрица A имеет ранг 2, так как если ко второй и третьей строке прибавить первую, умноженную на -1, то будет видно, \n",
    "# что эти строки линейно зависимы (3 3 3, 6 6 6), следовательно, одну из них можно сократить.\n",
    "# для того, чтобы вектор удовлетворял такой же зависимости можно, например, привести значения вектора во второй и третьей строке:\n",
    "# если в первой строке 12, то получим: 12 - 3 = 9, 12 - 6 = 6\n",
    "B_new = np.array([[12, 9, 6]])"
   ]
  },
  {
   "cell_type": "code",
   "execution_count": 29,
   "metadata": {},
   "outputs": [
    {
     "name": "stdout",
     "output_type": "stream",
     "text": [
      "[[ 1  2  3 12]\n",
      " [ 4  5  6  9]\n",
      " [ 7  8  9  6]]\n"
     ]
    },
    {
     "data": {
      "text/plain": [
       "(2, 2)"
      ]
     },
     "execution_count": 29,
     "metadata": {},
     "output_type": "execute_result"
    }
   ],
   "source": [
    "C_new = np.concatenate((A, B_new.T), axis=1)\n",
    "print(C_new)\n",
    "np.linalg.matrix_rank(A), np.linalg.matrix_rank(C_new)"
   ]
  },
  {
   "cell_type": "code",
   "execution_count": 30,
   "metadata": {
    "scrolled": true
   },
   "outputs": [],
   "source": [
    "# так как количество неизвестных в X - 3, то, получается, что ранг матрицы A равен рангу расширенной матрицы C и \n",
    "# меньше количества неизвестных - это значит, что система имеет бесконечное количество решений"
   ]
  },
  {
   "cell_type": "code",
   "execution_count": 31,
   "metadata": {},
   "outputs": [
    {
     "data": {
      "text/plain": [
       "(array([-7.33333333, -0.33333333,  6.66666667]),\n",
       " array([], dtype=float64),\n",
       " 2,\n",
       " array([1.68481034e+01, 1.06836951e+00, 4.41842475e-16]))"
      ]
     },
     "execution_count": 31,
     "metadata": {},
     "output_type": "execute_result"
    }
   ],
   "source": [
    "X = np.linalg.lstsq(A, B_new[0], rcond=None)\n",
    "X"
   ]
  },
  {
   "cell_type": "code",
   "execution_count": 32,
   "metadata": {},
   "outputs": [
    {
     "data": {
      "text/plain": [
       "array([12.,  9.,  6.])"
      ]
     },
     "execution_count": 32,
     "metadata": {},
     "output_type": "execute_result"
    }
   ],
   "source": [
    "np.dot(A, X[0])"
   ]
  },
  {
   "cell_type": "markdown",
   "metadata": {},
   "source": [
    "**4\\. Вычислите LU-разложение матрицы:**  \n",
    "$\\begin{pmatrix}\n",
    "1 & 2 & 3\\\\ \n",
    "2 & 16 & 21\\\\ \n",
    "4 & 28 & 73\\\\ \n",
    "\\end{pmatrix}$  \n",
    "**После этого придумайте вектор правых частей и решите полученную линейную систему трех уравнений с данной матрицей.**"
   ]
  },
  {
   "cell_type": "code",
   "execution_count": 33,
   "metadata": {},
   "outputs": [
    {
     "data": {
      "text/plain": [
       "array([[ 1,  2,  3],\n",
       "       [ 2, 16, 21],\n",
       "       [ 4, 28, 73]])"
      ]
     },
     "execution_count": 33,
     "metadata": {},
     "output_type": "execute_result"
    }
   ],
   "source": [
    "A = np.array([[1, 2, 3], [2, 16, 21], [4, 28, 73]])\n",
    "A"
   ]
  },
  {
   "cell_type": "code",
   "execution_count": 34,
   "metadata": {},
   "outputs": [
    {
     "name": "stdout",
     "output_type": "stream",
     "text": [
      "P\n",
      "[[0. 1. 0.]\n",
      " [0. 0. 1.]\n",
      " [1. 0. 0.]]\n",
      "L\n",
      "[[ 1.    0.    0.  ]\n",
      " [ 0.25  1.    0.  ]\n",
      " [ 0.5  -0.4   1.  ]]\n",
      "U\n",
      "[[  4.    28.    73.  ]\n",
      " [  0.    -5.   -15.25]\n",
      " [  0.     0.   -21.6 ]]\n"
     ]
    }
   ],
   "source": [
    "P, L, U = scipy.linalg.lu(A)\n",
    "print('P')\n",
    "print(P)\n",
    "print('L')\n",
    "print(L)\n",
    "print('U')\n",
    "print(U)"
   ]
  },
  {
   "cell_type": "code",
   "execution_count": 35,
   "metadata": {},
   "outputs": [
    {
     "data": {
      "text/plain": [
       "True"
      ]
     },
     "execution_count": 35,
     "metadata": {},
     "output_type": "execute_result"
    }
   ],
   "source": [
    "# проверка P.T * A = L * U\n",
    "np.allclose(np.dot(P.transpose(), A) - np.dot(L, U), np.zeros((3, 3)))"
   ]
  },
  {
   "cell_type": "code",
   "execution_count": 36,
   "metadata": {},
   "outputs": [
    {
     "data": {
      "text/plain": [
       "432.0"
      ]
     },
     "execution_count": 36,
     "metadata": {},
     "output_type": "execute_result"
    }
   ],
   "source": [
    "np.round(np.linalg.det(A), 2)"
   ]
  },
  {
   "cell_type": "code",
   "execution_count": 37,
   "metadata": {
    "scrolled": false
   },
   "outputs": [
    {
     "data": {
      "text/plain": [
       "3"
      ]
     },
     "execution_count": 37,
     "metadata": {},
     "output_type": "execute_result"
    }
   ],
   "source": [
    "np.linalg.matrix_rank(A)"
   ]
  },
  {
   "cell_type": "code",
   "execution_count": 38,
   "metadata": {},
   "outputs": [
    {
     "name": "stdout",
     "output_type": "stream",
     "text": [
      "[[ 1  2  3  5]\n",
      " [ 2 16 21 12]\n",
      " [ 4 28 73 81]]\n"
     ]
    },
    {
     "data": {
      "text/plain": [
       "(3, 3)"
      ]
     },
     "execution_count": 38,
     "metadata": {},
     "output_type": "execute_result"
    }
   ],
   "source": [
    "B = np.array([[5, 12, 81]])\n",
    "C = np.concatenate((A, B.T), axis=1)\n",
    "print(C)\n",
    "np.linalg.matrix_rank(A), np.linalg.matrix_rank(C)"
   ]
  },
  {
   "cell_type": "code",
   "execution_count": 39,
   "metadata": {
    "scrolled": true
   },
   "outputs": [
    {
     "data": {
      "text/plain": [
       "array([ 5, 12, 81])"
      ]
     },
     "execution_count": 39,
     "metadata": {},
     "output_type": "execute_result"
    }
   ],
   "source": [
    "# вектор правых частей\n",
    "B = np.array([5, 12, 81])\n",
    "B"
   ]
  },
  {
   "cell_type": "markdown",
   "metadata": {},
   "source": [
    "$\\begin{pmatrix}\n",
    "1 & 2 & 3\\\\ \n",
    "2 & 16 & 21\\\\ \n",
    "4 & 28 & 73\\\\ \n",
    "\\end{pmatrix} \\cdot X = \\begin{pmatrix}\n",
    "5\\\\\n",
    "12\\\\\n",
    "81\\\\\n",
    "\\end{pmatrix}$  "
   ]
  },
  {
   "cell_type": "code",
   "execution_count": 40,
   "metadata": {},
   "outputs": [
    {
     "data": {
      "text/plain": [
       "array([ 3.86574074, -1.83564815,  1.60185185])"
      ]
     },
     "execution_count": 40,
     "metadata": {},
     "output_type": "execute_result"
    }
   ],
   "source": [
    "X = np.linalg.solve(A, B)\n",
    "X"
   ]
  },
  {
   "cell_type": "code",
   "execution_count": 41,
   "metadata": {},
   "outputs": [
    {
     "data": {
      "text/plain": [
       "array([ 5., 12., 81.])"
      ]
     },
     "execution_count": 41,
     "metadata": {},
     "output_type": "execute_result"
    }
   ],
   "source": [
    "A @ X"
   ]
  },
  {
   "cell_type": "markdown",
   "metadata": {},
   "source": [
    "**5\\. Найдите нормальное псевдорешение недоопределенной системы:**  \n",
    "$\\begin{cases}\n",
    "x + 2\\cdot y - z = 1\\\\ \n",
    "8\\cdot x - 5 \\cdot y + 2 \\cdot z = 12\\\\ \n",
    "\\end{cases}$  \n",
    "**Для этого определите функцию Q(x,y,z), равную норме решения, и найдите ее минимум.**"
   ]
  },
  {
   "cell_type": "code",
   "execution_count": 42,
   "metadata": {},
   "outputs": [],
   "source": [
    "def Q(x, y, z):\n",
    "    return (x**2 + y**2 + z**2)"
   ]
  },
  {
   "cell_type": "code",
   "execution_count": 43,
   "metadata": {},
   "outputs": [
    {
     "data": {
      "text/plain": [
       "array([[ 1,  2, -1],\n",
       "       [ 8, -5,  2]])"
      ]
     },
     "execution_count": 43,
     "metadata": {},
     "output_type": "execute_result"
    }
   ],
   "source": [
    "A = np.array([[1, 2, -1], [8, -5, 2]])\n",
    "A"
   ]
  },
  {
   "cell_type": "code",
   "execution_count": 44,
   "metadata": {
    "scrolled": true
   },
   "outputs": [
    {
     "data": {
      "text/plain": [
       "array([ 1, 12])"
      ]
     },
     "execution_count": 44,
     "metadata": {},
     "output_type": "execute_result"
    }
   ],
   "source": [
    "B = np.array([1, 12])\n",
    "B"
   ]
  },
  {
   "cell_type": "markdown",
   "metadata": {},
   "source": [
    "Приведём систему к более простой зависимости от x:  \n",
    "\n",
    "$\\begin{cases}\n",
    "x + 2\\cdot y - z = 1\\\\ \n",
    "8\\cdot x - 5 \\cdot y + 2 \\cdot z = 7\\\\ \n",
    "\\end{cases}$  \n",
    "\n",
    "умножим 1 строку на 2 и прибавим ко второй:  \n",
    "\n",
    "$\\begin{cases}\n",
    "2 \\cdot x + 4\\cdot y - 2 \\cdot z = 2\\\\ \n",
    "8\\cdot x - 5 \\cdot y + 2 \\cdot z = 7\\\\ \n",
    "\\end{cases}$  \n",
    "\n",
    "$10 \\cdot x - y = 14$  \n",
    "\n",
    "Выразим y:  \n",
    "\n",
    "$y = 10\\cdot x - 14$  \n",
    "\n",
    "Из 1 уравнения выразим z, подставив y:  \n",
    "\n",
    "$x + 20 \\cdot x - 28 - z = 1$  \n",
    "\n",
    "$z = 21 \\cdot x - 29$"
   ]
  },
  {
   "cell_type": "code",
   "execution_count": 45,
   "metadata": {},
   "outputs": [
    {
     "data": {
      "image/png": "[encoded data removed]",
      "text/plain": [
       "<Figure size 432x288 with 1 Axes>"
      ]
     },
     "metadata": {
      "needs_background": "light"
     },
     "output_type": "display_data"
    }
   ],
   "source": [
    "x = np.linspace(0.5, 2, 100)\n",
    "y = 10 * x - 14\n",
    "z = 21 * x - 29\n",
    "\n",
    "plt.plot(x, Q(x, y, z))\n",
    "plt.xlabel('x')\n",
    "plt.ylabel('y')\n",
    "plt.grid(True)\n",
    "plt.show()"
   ]
  },
  {
   "cell_type": "code",
   "execution_count": 46,
   "metadata": {},
   "outputs": [
    {
     "data": {
      "text/plain": [
       "array([ 1.38191882, -0.18081181,  0.0202952 ])"
      ]
     },
     "execution_count": 46,
     "metadata": {},
     "output_type": "execute_result"
    }
   ],
   "source": [
    "np.linalg.lstsq(A, B, rcond=None)[0]"
   ]
  },
  {
   "cell_type": "markdown",
   "metadata": {},
   "source": [
    "**6\\. Найдите одно из псевдорешений вырожденной системы:**  \n",
    "$\\begin{pmatrix}\n",
    "1 & 2 & 3\\\\ \n",
    "4 & 5 & 6\\\\ \n",
    "7 & 8 & 9\\\\ \n",
    "\\end{pmatrix} \\cdot X = \\begin{pmatrix}\n",
    "2\\\\\n",
    "5\\\\\n",
    "11\\\\\n",
    "\\end{pmatrix}$  \n",
    "**Попробуйте также отыскать и нормальное псевдорешение.**"
   ]
  },
  {
   "cell_type": "code",
   "execution_count": 47,
   "metadata": {},
   "outputs": [
    {
     "data": {
      "text/plain": [
       "array([[1, 2, 3],\n",
       "       [4, 5, 6],\n",
       "       [7, 8, 9]])"
      ]
     },
     "execution_count": 47,
     "metadata": {},
     "output_type": "execute_result"
    }
   ],
   "source": [
    "A = np.array([[1, 2, 3], [4, 5, 6], [7, 8, 9]])\n",
    "A"
   ]
  },
  {
   "cell_type": "code",
   "execution_count": 48,
   "metadata": {},
   "outputs": [],
   "source": [
    "B = np.array([2, 5, 11])"
   ]
  },
  {
   "cell_type": "code",
   "execution_count": 49,
   "metadata": {},
   "outputs": [
    {
     "name": "stdout",
     "output_type": "stream",
     "text": [
      "[[-0.12309149  0.90453403  0.40824829]\n",
      " [-0.49236596  0.30151134 -0.81649658]\n",
      " [-0.86164044 -0.30151134  0.40824829]]\n",
      "[[-8.12403840e+00 -9.60113630e+00 -1.10782342e+01]\n",
      " [ 0.00000000e+00  9.04534034e-01  1.80906807e+00]\n",
      " [ 0.00000000e+00  0.00000000e+00 -8.88178420e-16]]\n"
     ]
    }
   ],
   "source": [
    "Q, R = np.linalg.qr(A)\n",
    "print(Q)\n",
    "print(R)"
   ]
  },
  {
   "cell_type": "code",
   "execution_count": 50,
   "metadata": {},
   "outputs": [
    {
     "data": {
      "text/plain": [
       "array([[1., 2., 3.],\n",
       "       [4., 5., 6.],\n",
       "       [7., 8., 9.]])"
      ]
     },
     "execution_count": 50,
     "metadata": {},
     "output_type": "execute_result"
    }
   ],
   "source": [
    "np.dot(Q, R)"
   ]
  },
  {
   "cell_type": "code",
   "execution_count": 51,
   "metadata": {},
   "outputs": [
    {
     "data": {
      "text/plain": [
       "array([[-8.1240384 , -9.6011363 ],\n",
       "       [ 0.        ,  0.90453403]])"
      ]
     },
     "execution_count": 51,
     "metadata": {},
     "output_type": "execute_result"
    }
   ],
   "source": [
    "R1 = R[:2, :2]\n",
    "R1"
   ]
  },
  {
   "cell_type": "code",
   "execution_count": 52,
   "metadata": {},
   "outputs": [
    {
     "data": {
      "text/plain": [
       "array([-1.21860576e+01,  3.55271368e-15])"
      ]
     },
     "execution_count": 52,
     "metadata": {},
     "output_type": "execute_result"
    }
   ],
   "source": [
    "B1 = np.dot(Q.T, B)[:2]\n",
    "B1"
   ]
  },
  {
   "cell_type": "code",
   "execution_count": 53,
   "metadata": {},
   "outputs": [
    {
     "data": {
      "text/plain": [
       "array([1.50000000e+00, 3.92767275e-15])"
      ]
     },
     "execution_count": 53,
     "metadata": {},
     "output_type": "execute_result"
    }
   ],
   "source": [
    "X1 = np.linalg.solve(R1, B1)\n",
    "X1"
   ]
  },
  {
   "cell_type": "code",
   "execution_count": 54,
   "metadata": {},
   "outputs": [
    {
     "data": {
      "text/plain": [
       "array([1.50000000e+00, 3.92767275e-15, 0.00000000e+00])"
      ]
     },
     "execution_count": 54,
     "metadata": {},
     "output_type": "execute_result"
    }
   ],
   "source": [
    "X = np.append(X1, 0)\n",
    "X"
   ]
  },
  {
   "cell_type": "code",
   "execution_count": 55,
   "metadata": {},
   "outputs": [
    {
     "data": {
      "text/plain": [
       "1.499999999999996"
      ]
     },
     "execution_count": 55,
     "metadata": {},
     "output_type": "execute_result"
    }
   ],
   "source": [
    "np.linalg.norm(X)"
   ]
  },
  {
   "cell_type": "code",
   "execution_count": 56,
   "metadata": {},
   "outputs": [
    {
     "data": {
      "text/plain": [
       "1.224744871391589"
      ]
     },
     "execution_count": 56,
     "metadata": {},
     "output_type": "execute_result"
    }
   ],
   "source": [
    "np.linalg.norm(np.dot(A, X) - B)"
   ]
  },
  {
   "cell_type": "code",
   "execution_count": 57,
   "metadata": {},
   "outputs": [
    {
     "data": {
      "text/plain": [
       "array([ 1.25,  0.5 , -0.25])"
      ]
     },
     "execution_count": 57,
     "metadata": {},
     "output_type": "execute_result"
    }
   ],
   "source": [
    "X = np.linalg.lstsq(A, B, rcond=None)[0]\n",
    "X"
   ]
  },
  {
   "cell_type": "code",
   "execution_count": 58,
   "metadata": {},
   "outputs": [
    {
     "data": {
      "text/plain": [
       "1.3693063937629126"
      ]
     },
     "execution_count": 58,
     "metadata": {},
     "output_type": "execute_result"
    }
   ],
   "source": [
    "np.linalg.norm(X)"
   ]
  }
 ],
 "metadata": {
  "kernelspec": {
   "display_name": "Python 3",
   "language": "python",
   "name": "python3"
  },
  "language_info": {
   "codemirror_mode": {
    "name": "ipython",
    "version": 3
   },
   "file_extension": ".py",
   "mimetype": "text/x-python",
   "name": "python",
   "nbconvert_exporter": "python",
   "pygments_lexer": "ipython3",
   "version": "3.7.4"
  }
 },
 "nbformat": 4,
 "nbformat_minor": 2
}
