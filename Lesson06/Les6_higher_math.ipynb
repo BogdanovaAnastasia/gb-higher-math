{
 "cells": [
  {
   "cell_type": "markdown",
   "metadata": {},
   "source": [
    "## Домашнее задание к уроку \"Урок 6. Вебинар Элементы теории вероятностей\""
   ]
  },
  {
   "cell_type": "code",
   "execution_count": 1,
   "metadata": {},
   "outputs": [],
   "source": [
    "from sympy import *\n",
    "%matplotlib inline\n",
    "from pylab import *"
   ]
  },
  {
   "cell_type": "markdown",
   "metadata": {},
   "source": [
    "**1\\. Задание (теорема сложения)  \n",
    "Найти вероятность выпадения 2 или 5 очков при подбрасывании игральной кости, на гранях которой имеются соответственно 1,2,3,4,5 и 6 очков.**"
   ]
  },
  {
   "cell_type": "code",
   "execution_count": 2,
   "metadata": {},
   "outputs": [
    {
     "data": {
      "text/latex": [
       "$\\displaystyle \\frac{1}{3}$"
      ],
      "text/plain": [
       "1/3"
      ]
     },
     "execution_count": 2,
     "metadata": {},
     "output_type": "execute_result"
    }
   ],
   "source": [
    "# вероятность выпадения 2 - 1/6, вероятность выпадения 5 - 1/6, или - вероятности нужно сложить\n",
    "P = Rational('1/6') + Rational('1/6')\n",
    "P"
   ]
  },
  {
   "cell_type": "markdown",
   "metadata": {},
   "source": [
    "**2\\. Задание (теорема умножения)  \n",
    "Найти вероятность того, что при двух подбрасываниях той же самой игральной кости сначала выпадет 2, а затем 5.**"
   ]
  },
  {
   "cell_type": "code",
   "execution_count": 3,
   "metadata": {},
   "outputs": [
    {
     "data": {
      "text/latex": [
       "$\\displaystyle \\frac{1}{36}$"
      ],
      "text/plain": [
       "1/36"
      ]
     },
     "execution_count": 3,
     "metadata": {},
     "output_type": "execute_result"
    }
   ],
   "source": [
    "# при последовательном подбрасывании игральной кости вероятность выпадения одной из костей такая же, \n",
    "# как и при подбрасывании разных костей, события выпадения будут независимыми\n",
    "P = Rational('1/6') * Rational('1/6')\n",
    "P"
   ]
  },
  {
   "cell_type": "markdown",
   "metadata": {},
   "source": [
    "**3\\. Задание  \n",
    "Найти вероятность выпадения 2 и 5 очков при двух подбрасываниях той же самой игральной игральной кости.**"
   ]
  },
  {
   "cell_type": "code",
   "execution_count": 4,
   "metadata": {},
   "outputs": [
    {
     "data": {
      "text/latex": [
       "$\\displaystyle \\frac{1}{18}$"
      ],
      "text/plain": [
       "1/18"
      ]
     },
     "execution_count": 4,
     "metadata": {},
     "output_type": "execute_result"
    }
   ],
   "source": [
    "# вероятные события: 2 и 5 или 5 и 2\n",
    "P = Rational('1/6') * Rational('1/6') + Rational('1/6') * Rational('1/6')\n",
    "P"
   ]
  },
  {
   "cell_type": "markdown",
   "metadata": {},
   "source": [
    "**4\\. Задание  (Геометрическая вероятность + интервалы)  \n",
    "На отрезке AB длиной 20 см наугад отметили точку C. Какова вероятность, что она находится на расстоянии не более 9 см от точки А и не более 15 см от точки В?**"
   ]
  },
  {
   "cell_type": "code",
   "execution_count": 5,
   "metadata": {},
   "outputs": [],
   "source": [
    "# A = 0\n",
    "# B = 20\n",
    "# C <= A + 9 ==> C <= 9\n",
    "# C >= B - 15 ==> C >= 20 - 15 ==> C >= 5"
   ]
  },
  {
   "cell_type": "code",
   "execution_count": 6,
   "metadata": {},
   "outputs": [
    {
     "data": {
      "image/png": "[encoded data removed]",
      "text/plain": [
       "<Figure size 432x288 with 1 Axes>"
      ]
     },
     "metadata": {
      "needs_background": "light"
     },
     "output_type": "display_data"
    }
   ],
   "source": [
    "x = linspace(0, 20, 1000)\n",
    "y = [0 for i in x]\n",
    "plot(x, y)\n",
    "\n",
    "x1 = [i for i in x if 5 <= i <= 9]\n",
    "y1 = [0 for i in x1]\n",
    "plot(x1, y1, color='g')\n",
    "A = (0, 0)\n",
    "B = (20, 0)\n",
    "C1 = (0 + 9, 0)\n",
    "C2 = (20 - 15, 0)\n",
    "\n",
    "scatter(A[0], A[1], color='b', marker='o')\n",
    "scatter(B[0], B[1], color='b', marker='o')\n",
    "scatter(C1[0], C1[1], color='g', marker='o')\n",
    "scatter(C2[0], C2[1], color='g', marker='o')\n",
    "\n",
    "text(A[0], A[1] + 0.1, 'A', color='b')\n",
    "text(A[0], A[1] - 0.15, '0', color='b')\n",
    "text(B[0], B[1] + 0.1, 'B', color='b')\n",
    "text(B[0], B[1] - 0.15, '20', color='b')\n",
    "text((C1[0] + C2[0])/2, C1[1] + 0.1, 'C', color='g')\n",
    "text(C1[0], C1[1] - 0.15, '9', color='g')\n",
    "text(C2[0], C2[1] - 0.15, '5', color='g')\n",
    "\n",
    "xlabel('x')\n",
    "ylabel('y')\n",
    "xlim(-1, 21)\n",
    "ylim(-1, 1)\n",
    "show()"
   ]
  },
  {
   "cell_type": "code",
   "execution_count": 7,
   "metadata": {},
   "outputs": [
    {
     "data": {
      "text/plain": [
       "0.2"
      ]
     },
     "execution_count": 7,
     "metadata": {},
     "output_type": "execute_result"
    }
   ],
   "source": [
    "# вероятность для C попасть в промежуток между 5 и 9 см:\n",
    "P = (9 - 5) / 20\n",
    "P"
   ]
  },
  {
   "cell_type": "markdown",
   "metadata": {},
   "source": [
    "**5\\. Задание.   \n",
    "Телефонный номер состоит из 7 цифр. Какова вероятность, что это номер 8882227?**"
   ]
  },
  {
   "cell_type": "code",
   "execution_count": 8,
   "metadata": {},
   "outputs": [
    {
     "data": {
      "text/plain": [
       "1e-07"
      ]
     },
     "execution_count": 8,
     "metadata": {},
     "output_type": "execute_result"
    }
   ],
   "source": [
    "# общее количество цифр 7, выбираем из 10: 0123456789\n",
    "# всего вариантов - 7 цифр по одной из 10\n",
    "n = 10 ** 7\n",
    "# каждую цифру для комбинации можно вытащить только 1 способом, следовательно, вероятность получить искомую комбинацию:\n",
    "P = 1/n\n",
    "P"
   ]
  },
  {
   "cell_type": "markdown",
   "metadata": {},
   "source": [
    "**6\\. Задание.  \n",
    "Набирая номер телефона, абонент забыл 2 последние цифры, и, помня только то, что эти цифры различны и среди них нет нуля, стал набирать их наудачу. Сколько вариантов ему надо перебрать, чтобы наверняка найти нужный номер? Какова вероятность того, что он угадает номер с первого раза?**"
   ]
  },
  {
   "cell_type": "code",
   "execution_count": 9,
   "metadata": {},
   "outputs": [
    {
     "data": {
      "text/plain": [
       "72.0"
      ]
     },
     "execution_count": 9,
     "metadata": {},
     "output_type": "execute_result"
    }
   ],
   "source": [
    "# всего цифр, без 0, девять. по условию из них необходимо выбрать 2\n",
    "n = 9\n",
    "k = 2\n",
    "# для подсчёта количества вариантов для набора наугад можно использовать размещение\n",
    "A = math.factorial(n)/math.factorial(n - k)\n",
    "A"
   ]
  },
  {
   "cell_type": "code",
   "execution_count": 10,
   "metadata": {},
   "outputs": [
    {
     "data": {
      "text/latex": [
       "$\\displaystyle \\frac{1}{72}$"
      ],
      "text/plain": [
       "1/72"
      ]
     },
     "execution_count": 10,
     "metadata": {},
     "output_type": "execute_result"
    }
   ],
   "source": [
    "# вероятность того, что абонент угадает номер с первого раза - один раз (сразу) из 81 варианта\n",
    "P = Rational('1 / 72')\n",
    "P"
   ]
  }
 ],
 "metadata": {
  "kernelspec": {
   "display_name": "Python 3",
   "language": "python",
   "name": "python3"
  },
  "language_info": {
   "codemirror_mode": {
    "name": "ipython",
    "version": 3
   },
   "file_extension": ".py",
   "mimetype": "text/x-python",
   "name": "python",
   "nbconvert_exporter": "python",
   "pygments_lexer": "ipython3",
   "version": "3.7.4"
  }
 },
 "nbformat": 4,
 "nbformat_minor": 2
}
